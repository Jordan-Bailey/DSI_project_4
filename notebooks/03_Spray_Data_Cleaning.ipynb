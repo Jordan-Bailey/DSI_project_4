{
 "cells": [
  {
   "cell_type": "markdown",
   "metadata": {},
   "source": [
    "# Cleaning the Spray Dataset"
   ]
  },
  {
   "cell_type": "markdown",
   "metadata": {},
   "source": [
    "## Importing modules and data"
   ]
  },
  {
   "cell_type": "code",
   "execution_count": 1,
   "metadata": {},
   "outputs": [],
   "source": [
    "import pandas as pd\n",
    "import numpy as np\n",
    "import matplotlib.pyplot as plt\n",
    "import seaborn as sns\n",
    "import datetime as dt\n",
    "\n",
    "%matplotlib inline\n",
    "sns.set_style('darkgrid')\n",
    "sns.set_palette('viridis')\n",
    "\n",
    "spray = pd.read_csv('../data/spray.csv')"
   ]
  },
  {
   "cell_type": "code",
   "execution_count": 2,
   "metadata": {},
   "outputs": [
    {
     "data": {
      "text/html": [
       "<div>\n",
       "<style scoped>\n",
       "    .dataframe tbody tr th:only-of-type {\n",
       "        vertical-align: middle;\n",
       "    }\n",
       "\n",
       "    .dataframe tbody tr th {\n",
       "        vertical-align: top;\n",
       "    }\n",
       "\n",
       "    .dataframe thead th {\n",
       "        text-align: right;\n",
       "    }\n",
       "</style>\n",
       "<table border=\"1\" class=\"dataframe\">\n",
       "  <thead>\n",
       "    <tr style=\"text-align: right;\">\n",
       "      <th></th>\n",
       "      <th>Date</th>\n",
       "      <th>Time</th>\n",
       "      <th>Latitude</th>\n",
       "      <th>Longitude</th>\n",
       "    </tr>\n",
       "  </thead>\n",
       "  <tbody>\n",
       "    <tr>\n",
       "      <th>0</th>\n",
       "      <td>2011-08-29</td>\n",
       "      <td>6:56:58 PM</td>\n",
       "      <td>42.391623</td>\n",
       "      <td>-88.089163</td>\n",
       "    </tr>\n",
       "    <tr>\n",
       "      <th>1</th>\n",
       "      <td>2011-08-29</td>\n",
       "      <td>6:57:08 PM</td>\n",
       "      <td>42.391348</td>\n",
       "      <td>-88.089163</td>\n",
       "    </tr>\n",
       "    <tr>\n",
       "      <th>2</th>\n",
       "      <td>2011-08-29</td>\n",
       "      <td>6:57:18 PM</td>\n",
       "      <td>42.391022</td>\n",
       "      <td>-88.089157</td>\n",
       "    </tr>\n",
       "    <tr>\n",
       "      <th>3</th>\n",
       "      <td>2011-08-29</td>\n",
       "      <td>6:57:28 PM</td>\n",
       "      <td>42.390637</td>\n",
       "      <td>-88.089158</td>\n",
       "    </tr>\n",
       "    <tr>\n",
       "      <th>4</th>\n",
       "      <td>2011-08-29</td>\n",
       "      <td>6:57:38 PM</td>\n",
       "      <td>42.390410</td>\n",
       "      <td>-88.088858</td>\n",
       "    </tr>\n",
       "  </tbody>\n",
       "</table>\n",
       "</div>"
      ],
      "text/plain": [
       "         Date        Time   Latitude  Longitude\n",
       "0  2011-08-29  6:56:58 PM  42.391623 -88.089163\n",
       "1  2011-08-29  6:57:08 PM  42.391348 -88.089163\n",
       "2  2011-08-29  6:57:18 PM  42.391022 -88.089157\n",
       "3  2011-08-29  6:57:28 PM  42.390637 -88.089158\n",
       "4  2011-08-29  6:57:38 PM  42.390410 -88.088858"
      ]
     },
     "execution_count": 2,
     "metadata": {},
     "output_type": "execute_result"
    }
   ],
   "source": [
    "spray.head()"
   ]
  },
  {
   "cell_type": "markdown",
   "metadata": {},
   "source": [
    "## Checking for null values"
   ]
  },
  {
   "cell_type": "code",
   "execution_count": 3,
   "metadata": {},
   "outputs": [
    {
     "data": {
      "text/plain": [
       "Date           0\n",
       "Time         584\n",
       "Latitude       0\n",
       "Longitude      0\n",
       "dtype: int64"
      ]
     },
     "execution_count": 3,
     "metadata": {},
     "output_type": "execute_result"
    }
   ],
   "source": [
    "spray.isnull().sum()"
   ]
  },
  {
   "cell_type": "markdown",
   "metadata": {},
   "source": [
    "Since there are so many missing values for time and we have no way to determine the true values, we will drop the time column."
   ]
  },
  {
   "cell_type": "markdown",
   "metadata": {},
   "source": [
    "## Checking for other errors"
   ]
  },
  {
   "cell_type": "markdown",
   "metadata": {},
   "source": [
    "### Duplicated locations\n",
    "\n",
    "We noticed that one latitude/longitude pair was duplicated over 500 times and one other was duplicated once. We address these issues below:"
   ]
  },
  {
   "cell_type": "code",
   "execution_count": 4,
   "metadata": {
    "scrolled": true
   },
   "outputs": [],
   "source": [
    "order_groups = spray.groupby(['Latitude', 'Longitude'], as_index=False).count().sort_values('Date', ascending=False)"
   ]
  },
  {
   "cell_type": "code",
   "execution_count": 5,
   "metadata": {
    "scrolled": true
   },
   "outputs": [
    {
     "data": {
      "text/html": [
       "<div>\n",
       "<style scoped>\n",
       "    .dataframe tbody tr th:only-of-type {\n",
       "        vertical-align: middle;\n",
       "    }\n",
       "\n",
       "    .dataframe tbody tr th {\n",
       "        vertical-align: top;\n",
       "    }\n",
       "\n",
       "    .dataframe thead th {\n",
       "        text-align: right;\n",
       "    }\n",
       "</style>\n",
       "<table border=\"1\" class=\"dataframe\">\n",
       "  <thead>\n",
       "    <tr style=\"text-align: right;\">\n",
       "      <th></th>\n",
       "      <th>Latitude</th>\n",
       "      <th>Longitude</th>\n",
       "      <th>Date</th>\n",
       "      <th>Time</th>\n",
       "    </tr>\n",
       "  </thead>\n",
       "  <tbody>\n",
       "    <tr>\n",
       "      <th>11853</th>\n",
       "      <td>41.986460</td>\n",
       "      <td>-87.794225</td>\n",
       "      <td>541</td>\n",
       "      <td>541</td>\n",
       "    </tr>\n",
       "    <tr>\n",
       "      <th>11499</th>\n",
       "      <td>41.983917</td>\n",
       "      <td>-87.793088</td>\n",
       "      <td>2</td>\n",
       "      <td>2</td>\n",
       "    </tr>\n",
       "    <tr>\n",
       "      <th>0</th>\n",
       "      <td>41.713925</td>\n",
       "      <td>-87.615892</td>\n",
       "      <td>1</td>\n",
       "      <td>1</td>\n",
       "    </tr>\n",
       "    <tr>\n",
       "      <th>9533</th>\n",
       "      <td>41.959113</td>\n",
       "      <td>-87.719752</td>\n",
       "      <td>1</td>\n",
       "      <td>1</td>\n",
       "    </tr>\n",
       "    <tr>\n",
       "      <th>9522</th>\n",
       "      <td>41.959028</td>\n",
       "      <td>-87.728890</td>\n",
       "      <td>1</td>\n",
       "      <td>1</td>\n",
       "    </tr>\n",
       "  </tbody>\n",
       "</table>\n",
       "</div>"
      ],
      "text/plain": [
       "        Latitude  Longitude  Date  Time\n",
       "11853  41.986460 -87.794225   541   541\n",
       "11499  41.983917 -87.793088     2     2\n",
       "0      41.713925 -87.615892     1     1\n",
       "9533   41.959113 -87.719752     1     1\n",
       "9522   41.959028 -87.728890     1     1"
      ]
     },
     "execution_count": 5,
     "metadata": {},
     "output_type": "execute_result"
    }
   ],
   "source": [
    "order_groups.head()"
   ]
  },
  {
   "cell_type": "code",
   "execution_count": 6,
   "metadata": {
    "scrolled": true
   },
   "outputs": [
    {
     "data": {
      "text/plain": [
       "41.9839166666667"
      ]
     },
     "execution_count": 6,
     "metadata": {},
     "output_type": "execute_result"
    }
   ],
   "source": [
    "order_groups.loc[11499, :]['Latitude']"
   ]
  },
  {
   "cell_type": "code",
   "execution_count": 7,
   "metadata": {},
   "outputs": [
    {
     "data": {
      "text/plain": [
       "Latitude   Longitude \n",
       "41.986460  -87.794225    541\n",
       "41.983917  -87.793088      2\n",
       "41.894413  -87.710262      1\n",
       "41.894380  -87.772148      1\n",
       "41.894343  -87.760688      1\n",
       "dtype: int64"
      ]
     },
     "execution_count": 7,
     "metadata": {},
     "output_type": "execute_result"
    }
   ],
   "source": [
    "lat_long_count = spray.drop('Time', axis=1).groupby(['Latitude', 'Longitude']).agg(['count'])\n",
    "\n",
    "lat_long_count.columns\n",
    "\n",
    "lat_long_count = pd.Series(lat_long_count.values.reshape(1,-1)[0], lat_long_count.index)\n",
    "\n",
    "lat_long_count.sort_values(ascending=False).head()"
   ]
  },
  {
   "cell_type": "markdown",
   "metadata": {},
   "source": [
    "Through manual inspection, we have determined a spray entry which has been duplicated 541 times.  We are going to remove the duplicates from this list."
   ]
  },
  {
   "cell_type": "code",
   "execution_count": 8,
   "metadata": {
    "scrolled": false
   },
   "outputs": [
    {
     "data": {
      "text/plain": [
       "(541, 4)"
      ]
     },
     "execution_count": 8,
     "metadata": {},
     "output_type": "execute_result"
    }
   ],
   "source": [
    "mask = (spray['Latitude'] == 41.986460) & (spray['Longitude'] == -87.794225)\n",
    "spray[mask].shape"
   ]
  },
  {
   "cell_type": "code",
   "execution_count": 9,
   "metadata": {},
   "outputs": [
    {
     "data": {
      "text/plain": [
       "Int64Index([ 490,  491,  492,  493,  494,  495,  496,  497,  498,  499,\n",
       "            ...\n",
       "            1020, 1021, 1022, 1023, 1024, 1025, 1026, 1027, 1028, 1029],\n",
       "           dtype='int64', length=540)"
      ]
     },
     "execution_count": 9,
     "metadata": {},
     "output_type": "execute_result"
    }
   ],
   "source": [
    "spray[mask].index[1:]"
   ]
  },
  {
   "cell_type": "code",
   "execution_count": 10,
   "metadata": {},
   "outputs": [],
   "source": [
    "spray.drop(spray[mask].index[1:], inplace=True)"
   ]
  },
  {
   "cell_type": "code",
   "execution_count": 11,
   "metadata": {},
   "outputs": [
    {
     "data": {
      "text/plain": [
       "Latitude   Longitude \n",
       "41.983917  -87.793088    2\n",
       "42.395983  -88.095757    1\n",
       "41.894157  -87.754473    1\n",
       "41.894380  -87.772148    1\n",
       "41.894343  -87.760688    1\n",
       "dtype: int64"
      ]
     },
     "execution_count": 11,
     "metadata": {},
     "output_type": "execute_result"
    }
   ],
   "source": [
    "lat_long_count = spray.drop('Time', axis=1).groupby(['Latitude', 'Longitude']).agg(['count'])\n",
    "\n",
    "lat_long_count = pd.Series(lat_long_count.values.reshape(1,-1)[0], lat_long_count.index)\n",
    "\n",
    "lat_long_count.sort_values(ascending=False).head()"
   ]
  },
  {
   "cell_type": "code",
   "execution_count": 12,
   "metadata": {},
   "outputs": [
    {
     "data": {
      "text/plain": [
       "2"
      ]
     },
     "execution_count": 12,
     "metadata": {},
     "output_type": "execute_result"
    }
   ],
   "source": [
    "mask = (spray['Longitude'] == -87.7930883333333) & (spray['Latitude'] ==  41.9839166666667)\n",
    "sum(mask)"
   ]
  },
  {
   "cell_type": "code",
   "execution_count": 13,
   "metadata": {},
   "outputs": [
    {
     "data": {
      "text/plain": [
       "Int64Index([485], dtype='int64')"
      ]
     },
     "execution_count": 13,
     "metadata": {},
     "output_type": "execute_result"
    }
   ],
   "source": [
    "spray[mask].index[1:]"
   ]
  },
  {
   "cell_type": "code",
   "execution_count": 14,
   "metadata": {},
   "outputs": [],
   "source": [
    "spray.drop(spray[mask].index[1:], inplace=True)"
   ]
  },
  {
   "cell_type": "code",
   "execution_count": 15,
   "metadata": {},
   "outputs": [
    {
     "data": {
      "text/plain": [
       "Latitude   Longitude \n",
       "42.395983  -88.095757    1\n",
       "41.894160  -87.767937    1\n",
       "41.894402  -87.704128    1\n",
       "41.894380  -87.772148    1\n",
       "41.894343  -87.760688    1\n",
       "dtype: int64"
      ]
     },
     "execution_count": 15,
     "metadata": {},
     "output_type": "execute_result"
    }
   ],
   "source": [
    "lat_long_count = spray.drop('Time', axis=1).groupby(['Latitude', 'Longitude']).agg(['count'])\n",
    "\n",
    "lat_long_count = pd.Series(lat_long_count.values.reshape(1,-1)[0], lat_long_count.index)\n",
    "\n",
    "lat_long_count.sort_values(ascending=False).head()"
   ]
  },
  {
   "cell_type": "code",
   "execution_count": 16,
   "metadata": {},
   "outputs": [],
   "source": [
    "spray.drop('Time', axis=1, inplace=True)"
   ]
  },
  {
   "cell_type": "markdown",
   "metadata": {},
   "source": [
    "**Now there are no duplicated latitude/longitude pairs and we have dropped the time column.**"
   ]
  },
  {
   "cell_type": "markdown",
   "metadata": {},
   "source": [
    "## Adding an indicator if a trap is nearby spray zone"
   ]
  },
  {
   "cell_type": "code",
   "execution_count": 17,
   "metadata": {},
   "outputs": [],
   "source": [
    "train = pd.read_csv('../data/train_cleaned.csv')"
   ]
  },
  {
   "cell_type": "code",
   "execution_count": 18,
   "metadata": {},
   "outputs": [],
   "source": [
    "from math import sin, cos, radians, asin, sqrt\n",
    "def global_distance(lon1, lat1, lon2, lat2):\n",
    "    # convert decimal degrees to radians \n",
    "    lon1, lat1, lon2, lat2 = map(radians, [lon1, lat1, lon2, lat2])\n",
    "\n",
    "    dlon = lon2 - lon1 \n",
    "    dlat = lat2 - lat1 \n",
    "    a = sin(dlat/2)**2 + cos(lat1) * cos(lat2) * sin(dlon/2)**2\n",
    "    c = 2 * asin(sqrt(a)) \n",
    "    r = 3956\n",
    "    \n",
    "    return c * r"
   ]
  },
  {
   "cell_type": "code",
   "execution_count": null,
   "metadata": {},
   "outputs": [],
   "source": []
  },
  {
   "cell_type": "code",
   "execution_count": 19,
   "metadata": {},
   "outputs": [
    {
     "data": {
      "text/html": [
       "<div>\n",
       "<style scoped>\n",
       "    .dataframe tbody tr th:only-of-type {\n",
       "        vertical-align: middle;\n",
       "    }\n",
       "\n",
       "    .dataframe tbody tr th {\n",
       "        vertical-align: top;\n",
       "    }\n",
       "\n",
       "    .dataframe thead th {\n",
       "        text-align: right;\n",
       "    }\n",
       "</style>\n",
       "<table border=\"1\" class=\"dataframe\">\n",
       "  <thead>\n",
       "    <tr style=\"text-align: right;\">\n",
       "      <th></th>\n",
       "      <th>longitude</th>\n",
       "      <th>latitude</th>\n",
       "    </tr>\n",
       "  </thead>\n",
       "  <tbody>\n",
       "    <tr>\n",
       "      <th>0</th>\n",
       "      <td>-87.800991</td>\n",
       "      <td>41.954690</td>\n",
       "    </tr>\n",
       "    <tr>\n",
       "      <th>1</th>\n",
       "      <td>-87.800991</td>\n",
       "      <td>41.954690</td>\n",
       "    </tr>\n",
       "    <tr>\n",
       "      <th>2</th>\n",
       "      <td>-87.769279</td>\n",
       "      <td>41.994991</td>\n",
       "    </tr>\n",
       "    <tr>\n",
       "      <th>3</th>\n",
       "      <td>-87.824812</td>\n",
       "      <td>41.974089</td>\n",
       "    </tr>\n",
       "    <tr>\n",
       "      <th>4</th>\n",
       "      <td>-87.824812</td>\n",
       "      <td>41.974089</td>\n",
       "    </tr>\n",
       "  </tbody>\n",
       "</table>\n",
       "</div>"
      ],
      "text/plain": [
       "   longitude   latitude\n",
       "0 -87.800991  41.954690\n",
       "1 -87.800991  41.954690\n",
       "2 -87.769279  41.994991\n",
       "3 -87.824812  41.974089\n",
       "4 -87.824812  41.974089"
      ]
     },
     "execution_count": 19,
     "metadata": {},
     "output_type": "execute_result"
    }
   ],
   "source": [
    "train[['longitude','latitude']].head()"
   ]
  },
  {
   "cell_type": "code",
   "execution_count": 20,
   "metadata": {},
   "outputs": [
    {
     "data": {
      "text/html": [
       "<div>\n",
       "<style scoped>\n",
       "    .dataframe tbody tr th:only-of-type {\n",
       "        vertical-align: middle;\n",
       "    }\n",
       "\n",
       "    .dataframe tbody tr th {\n",
       "        vertical-align: top;\n",
       "    }\n",
       "\n",
       "    .dataframe thead th {\n",
       "        text-align: right;\n",
       "    }\n",
       "</style>\n",
       "<table border=\"1\" class=\"dataframe\">\n",
       "  <thead>\n",
       "    <tr style=\"text-align: right;\">\n",
       "      <th></th>\n",
       "      <th>Longitude</th>\n",
       "      <th>Latitude</th>\n",
       "    </tr>\n",
       "  </thead>\n",
       "  <tbody>\n",
       "    <tr>\n",
       "      <th>0</th>\n",
       "      <td>-88.089163</td>\n",
       "      <td>42.391623</td>\n",
       "    </tr>\n",
       "    <tr>\n",
       "      <th>1</th>\n",
       "      <td>-88.089163</td>\n",
       "      <td>42.391348</td>\n",
       "    </tr>\n",
       "    <tr>\n",
       "      <th>2</th>\n",
       "      <td>-88.089157</td>\n",
       "      <td>42.391022</td>\n",
       "    </tr>\n",
       "    <tr>\n",
       "      <th>3</th>\n",
       "      <td>-88.089158</td>\n",
       "      <td>42.390637</td>\n",
       "    </tr>\n",
       "    <tr>\n",
       "      <th>4</th>\n",
       "      <td>-88.088858</td>\n",
       "      <td>42.390410</td>\n",
       "    </tr>\n",
       "  </tbody>\n",
       "</table>\n",
       "</div>"
      ],
      "text/plain": [
       "   Longitude   Latitude\n",
       "0 -88.089163  42.391623\n",
       "1 -88.089163  42.391348\n",
       "2 -88.089157  42.391022\n",
       "3 -88.089158  42.390637\n",
       "4 -88.088858  42.390410"
      ]
     },
     "execution_count": 20,
     "metadata": {},
     "output_type": "execute_result"
    }
   ],
   "source": [
    "spray[['Longitude', 'Latitude']].head()"
   ]
  },
  {
   "cell_type": "code",
   "execution_count": 21,
   "metadata": {},
   "outputs": [],
   "source": [
    "stations = {}\n",
    "for index, row in train.iterrows():\n",
    "    stations[row['trap']] = (row['longitude'], row['latitude'])"
   ]
  },
  {
   "cell_type": "code",
   "execution_count": 22,
   "metadata": {
    "collapsed": true
   },
   "outputs": [
    {
     "data": {
      "text/plain": [
       "{'T002': (-87.800991, 41.95469),\n",
       " 'T007': (-87.769279, 41.994991),\n",
       " 'T015': (-87.824812, 41.974089),\n",
       " 'T045': (-87.666455, 41.9216),\n",
       " 'T046': (-87.65449100000002, 41.891118),\n",
       " 'T048': (-87.654224, 41.867108),\n",
       " 'T049': (-87.655232, 41.896282),\n",
       " 'T050': (-87.694259, 41.919343),\n",
       " 'T054': (-87.632085, 41.921965),\n",
       " 'T086': (-87.676709, 41.688324),\n",
       " 'T091': (-87.64886, 41.862292),\n",
       " 'T094': (-87.666014, 41.720848),\n",
       " 'T096': (-87.677512, 41.731922),\n",
       " 'T129': (-87.61156, 41.891126),\n",
       " 'T143': (-87.795585, 41.999129),\n",
       " 'T148': (-87.68776899999997, 42.01743),\n",
       " 'T153': (-87.760886, 41.907645),\n",
       " 'T159': (-87.649642, 41.732984),\n",
       " 'T009': (-87.862995, 41.99247800000001),\n",
       " 'T011': (-87.832763, 41.944869),\n",
       " 'T016': (-87.81150600000002, 42.011601),\n",
       " 'T019': (-87.69845699999998, 41.94983),\n",
       " 'T025': (-87.750938, 41.979243),\n",
       " 'T028': (-87.689778, 41.986921),\n",
       " 'T031': (-87.763416, 41.801498),\n",
       " 'T033': (-87.701431, 41.906638),\n",
       " 'T089': (-87.64997, 41.723195),\n",
       " 'T090': (-87.666901, 41.868077),\n",
       " 'T092': (-87.627561, 41.869216),\n",
       " 'T135': (-87.72460799999998, 41.662014),\n",
       " 'T141': (-87.76007, 41.961743),\n",
       " 'T142': (-87.776792, 41.953067),\n",
       " 'T145': (-87.629798, 41.878114),\n",
       " 'T146': (-87.702575, 41.958271),\n",
       " 'T147': (-87.700117, 41.932094),\n",
       " 'T149': (-87.667736, 41.994469),\n",
       " 'T150': (-87.675919, 42.006858),\n",
       " 'T151': (-87.800515, 41.916265),\n",
       " 'T152': (-87.716277, 41.846075),\n",
       " 'T154': (-87.752329, 41.918705),\n",
       " 'T158': (-87.707973, 41.682587),\n",
       " 'T162': (-87.61425799999998, 41.725517),\n",
       " 'T218': (-87.730698, 41.948167),\n",
       " 'T220': (-87.69181, 41.963976),\n",
       " 'T001': (-87.733974, 41.953705),\n",
       " 'T003': (-87.757639, 41.964242),\n",
       " 'T006': (-87.797127, 41.990284),\n",
       " 'T008': (-87.77792099999998, 42.008314),\n",
       " 'T012': (-87.747113, 41.991429),\n",
       " 'T034': (-87.686763, 41.843811),\n",
       " 'T037': (-87.79518, 41.921177),\n",
       " 'T040': (-87.719887, 41.852652),\n",
       " 'T043': (-87.694991, 41.857402),\n",
       " 'T047': (-87.696269, 41.868142),\n",
       " 'T051': (-87.656913, 41.846283),\n",
       " 'T085': (-87.648064, 41.721474),\n",
       " 'T088': (-87.69629300000003, 41.869107),\n",
       " 'T161': (-87.675088, 41.719059),\n",
       " 'T219': (-87.674677, 41.966987),\n",
       " 'T013': (-87.785288, 41.923738),\n",
       " 'T014': (-87.787992, 41.970248),\n",
       " 'T018': (-87.66214000000002, 42.010412),\n",
       " 'T030': (-87.716788, 41.89923),\n",
       " 'T084': (-87.598865, 41.692555),\n",
       " 'T144': (-87.794896, 41.94016),\n",
       " 'T160': (-87.68826700000002, 41.903002),\n",
       " 'T005': (-87.776385, 41.942114),\n",
       " 'T017': (-87.777189, 41.960616),\n",
       " 'T044': (-87.705085, 41.883284),\n",
       " 'T095': (-87.70373599999998, 41.704336),\n",
       " 'T004': (-87.748367, 41.96272800000001),\n",
       " 'T035': (-87.742302, 41.763733),\n",
       " 'T036': (-87.729384, 41.837085),\n",
       " 'T039': (-87.726737, 41.911824),\n",
       " 'T060': (-87.67837800000002, 41.823065),\n",
       " 'T061': (-87.679447, 41.801179),\n",
       " 'T062': (-87.71188000000002, 41.800737),\n",
       " 'T065': (-87.752411, 41.778297),\n",
       " 'T066': (-87.703047, 41.77166),\n",
       " 'T067': (-87.745602, 41.759346),\n",
       " 'T069': (-87.678649, 41.768388),\n",
       " 'T070': (-87.797894, 41.797616),\n",
       " 'T071': (-87.77653199999997, 41.781416),\n",
       " 'T073': (-87.60088, 41.773215),\n",
       " 'T074': (-87.66634300000003, 41.822536),\n",
       " 'T075': (-87.585487, 41.799282),\n",
       " 'T076': (-87.615989, 41.794781),\n",
       " 'T077': (-87.586427, 41.778748),\n",
       " 'T079': (-87.562889, 41.766202),\n",
       " 'T080': (-87.612922, 41.754676),\n",
       " 'T081': (-87.62779599999998, 41.821582),\n",
       " 'T082': (-87.642984, 41.803423),\n",
       " 'T083': (-87.590773, 41.754292),\n",
       " 'T114': (-87.736812, 41.798697),\n",
       " 'T155': (-87.778927, 41.776156),\n",
       " 'T063': (-87.726549, 41.82561),\n",
       " 'T115': (-87.599862, 41.673408),\n",
       " 'T138': (-87.585413, 41.72646500000001),\n",
       " 'T200': (-87.559308, 41.678618),\n",
       " 'T206': (-87.54306700000002, 41.737052),\n",
       " 'T209': (-87.546587, 41.740641),\n",
       " 'T212': (-87.535198, 41.680946),\n",
       " 'T215': (-87.531635, 41.686398),\n",
       " 'T107': (-87.582699, 41.729669),\n",
       " 'T128': (-87.56566600000002, 41.704572),\n",
       " 'T072': (-87.70271600000002, 41.74785),\n",
       " 'T078': (-87.65535600000003, 41.775051),\n",
       " 'T097': (-87.60449799999998, 41.644612),\n",
       " 'T099': (-87.55551, 41.733643),\n",
       " 'T100': (-87.531657, 41.717753),\n",
       " 'T102': (-87.605294, 41.750498),\n",
       " 'T103': (-87.536497, 41.702724),\n",
       " 'T027': (-87.728492, 41.98480900000001),\n",
       " 'T156': (-87.740029, 41.772846),\n",
       " 'T157': (-87.667827, 41.825902),\n",
       " 'T221': (-87.53869300000002, 41.659112),\n",
       " 'T900': (-87.890615, 41.974689),\n",
       " 'T903': (-87.930995, 41.957799),\n",
       " 'T222': (-87.746381, 41.925198),\n",
       " 'T223': (-87.805059, 41.973845),\n",
       " 'T225': (-87.731435, 41.743402),\n",
       " 'T227': (-87.60096300000002, 41.728495),\n",
       " 'T224': (-87.67145699999998, 41.94722700000001),\n",
       " 'T226': (-87.654234, 41.793818),\n",
       " 'T229': (-87.63981700000002, 41.753411),\n",
       " 'T230': (-87.756155, 41.904194),\n",
       " 'T228': (-87.72505699999998, 41.951866),\n",
       " 'T232': (-87.66805500000002, 41.912563),\n",
       " 'T231': (-87.666066, 41.98728),\n",
       " 'T235': (-87.627096, 41.776428),\n",
       " 'T233': (-87.807277, 42.009876),\n",
       " 'T236': (-87.770899, 41.994679),\n",
       " 'T237': (-87.69544300000003, 41.738903),\n",
       " 'T238': (-87.707394, 41.753391),\n",
       " 'T094B': (-87.669539, 41.71914),\n",
       " 'T054C': (-87.63359, 41.925652)}"
      ]
     },
     "execution_count": 22,
     "metadata": {},
     "output_type": "execute_result"
    }
   ],
   "source": [
    "stations"
   ]
  },
  {
   "cell_type": "code",
   "execution_count": 24,
   "metadata": {},
   "outputs": [],
   "source": [
    "station_distances = {}\n",
    "for station in stations:\n",
    "    lon = stations[station][0]\n",
    "    lat = stations[station][1]\n",
    "    \n",
    "    for index, spray_row in spray.iterrows():\n",
    "        tmp_dist = global_distance(lon, lat, spray_row['Longitude'], spray_row['Latitude'])\n",
    "        if station in station_distances:\n",
    "            station_distances[station] = min(tmp_dist, station_distances[station])\n",
    "        else:\n",
    "            station_distances[station] = tmp_dist\n"
   ]
  },
  {
   "cell_type": "code",
   "execution_count": 31,
   "metadata": {},
   "outputs": [],
   "source": [
    "train.to_csv('../data/train_cleaned_spray.csv', index=False)"
   ]
  },
  {
   "cell_type": "markdown",
   "metadata": {},
   "source": [
    "## Exporting file"
   ]
  },
  {
   "cell_type": "code",
   "execution_count": 32,
   "metadata": {},
   "outputs": [],
   "source": [
    "spray.to_csv('../data/spray_cleaned.csv', index=False)"
   ]
  }
 ],
 "metadata": {
  "kernelspec": {
   "display_name": "Python [default]",
   "language": "python",
   "name": "python3"
  },
  "language_info": {
   "codemirror_mode": {
    "name": "ipython",
    "version": 3
   },
   "file_extension": ".py",
   "mimetype": "text/x-python",
   "name": "python",
   "nbconvert_exporter": "python",
   "pygments_lexer": "ipython3",
   "version": "3.6.4"
  }
 },
 "nbformat": 4,
 "nbformat_minor": 2
}

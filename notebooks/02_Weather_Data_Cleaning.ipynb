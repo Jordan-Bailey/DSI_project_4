{
 "cells": [
  {
   "cell_type": "markdown",
   "metadata": {},
   "source": [
    "# Cleaning the weather dataset"
   ]
  },
  {
<<<<<<< HEAD
   "cell_type": "markdown",
=======
   "cell_type": "code",
   "execution_count": 2,
>>>>>>> 930996d39ddd92b0c2083e3a25d95218f18f575a
   "metadata": {},
   "source": [
    "## Importing data and modules"
   ]
  },
  {
   "cell_type": "code",
<<<<<<< HEAD
   "execution_count": 1,
=======
   "execution_count": 3,
>>>>>>> 930996d39ddd92b0c2083e3a25d95218f18f575a
   "metadata": {},
   "outputs": [],
   "source": [
    "import pandas as pd\n",
    "\n",
    "weather = pd.read_csv('../data/weather.csv')"
   ]
  },
  {
   "cell_type": "code",
<<<<<<< HEAD
   "execution_count": 2,
=======
   "execution_count": 4,
>>>>>>> 930996d39ddd92b0c2083e3a25d95218f18f575a
   "metadata": {
    "scrolled": false
   },
   "outputs": [
    {
     "data": {
      "text/plain": [
       "Index(['Station', 'Date', 'Tmax', 'Tmin', 'Tavg', 'Depart', 'DewPoint',\n",
       "       'WetBulb', 'Heat', 'Cool', 'Sunrise', 'Sunset', 'CodeSum', 'Depth',\n",
       "       'Water1', 'SnowFall', 'PrecipTotal', 'StnPressure', 'SeaLevel',\n",
       "       'ResultSpeed', 'ResultDir', 'AvgSpeed'],\n",
       "      dtype='object')"
      ]
     },
<<<<<<< HEAD
     "execution_count": 2,
=======
     "execution_count": 4,
>>>>>>> 930996d39ddd92b0c2083e3a25d95218f18f575a
     "metadata": {},
     "output_type": "execute_result"
    }
   ],
   "source": [
    "weather.columns"
   ]
  },
  {
   "cell_type": "markdown",
   "metadata": {},
   "source": [
    "## Checking for null values"
   ]
  },
  {
   "cell_type": "code",
<<<<<<< HEAD
   "execution_count": 3,
=======
   "execution_count": 5,
>>>>>>> 930996d39ddd92b0c2083e3a25d95218f18f575a
   "metadata": {},
   "outputs": [
    {
     "data": {
      "text/plain": [
       "(2944, 22)"
      ]
     },
<<<<<<< HEAD
     "execution_count": 3,
=======
     "execution_count": 5,
>>>>>>> 930996d39ddd92b0c2083e3a25d95218f18f575a
     "metadata": {},
     "output_type": "execute_result"
    }
   ],
   "source": [
    "weather.shape"
   ]
  },
  {
   "cell_type": "code",
<<<<<<< HEAD
   "execution_count": 4,
=======
   "execution_count": 6,
>>>>>>> 930996d39ddd92b0c2083e3a25d95218f18f575a
   "metadata": {},
   "outputs": [
    {
     "data": {
      "text/plain": [
       "0"
      ]
     },
<<<<<<< HEAD
     "execution_count": 4,
=======
     "execution_count": 6,
>>>>>>> 930996d39ddd92b0c2083e3a25d95218f18f575a
     "metadata": {},
     "output_type": "execute_result"
    }
   ],
   "source": [
    "weather.isnull().sum().sum()"
   ]
  },
  {
   "cell_type": "markdown",
   "metadata": {},
   "source": [
    "** There aren't any true null values, but based on the data dictionary missing data is actually encoded as an 'M' in this dataset**."
   ]
  },
  {
   "cell_type": "markdown",
   "metadata": {},
   "source": [
    "# Date\n",
    "\n",
    "Well, they're all length ten strings, so probably all good here."
   ]
  },
  {
   "cell_type": "code",
<<<<<<< HEAD
   "execution_count": 5,
=======
   "execution_count": 7,
>>>>>>> 930996d39ddd92b0c2083e3a25d95218f18f575a
   "metadata": {
    "scrolled": true
   },
   "outputs": [
    {
     "data": {
      "text/plain": [
       "10    2944\n",
       "Name: Date, dtype: int64"
      ]
     },
<<<<<<< HEAD
     "execution_count": 5,
=======
     "execution_count": 7,
>>>>>>> 930996d39ddd92b0c2083e3a25d95218f18f575a
     "metadata": {},
     "output_type": "execute_result"
    }
   ],
   "source": [
    "weather.Date.map(len).value_counts()"
   ]
  },
  {
   "cell_type": "markdown",
   "metadata": {},
   "source": [
    "# Tmax, Tmin, Tavg, Depart"
   ]
  },
  {
   "cell_type": "code",
<<<<<<< HEAD
   "execution_count": 6,
=======
   "execution_count": 8,
>>>>>>> 930996d39ddd92b0c2083e3a25d95218f18f575a
   "metadata": {},
   "outputs": [
    {
     "data": {
      "text/plain": [
       "0"
      ]
     },
<<<<<<< HEAD
     "execution_count": 6,
=======
     "execution_count": 8,
>>>>>>> 930996d39ddd92b0c2083e3a25d95218f18f575a
     "metadata": {},
     "output_type": "execute_result"
    }
   ],
   "source": [
    "Tmax_missing = weather['Tmax'].map(lambda val: val == 'M')\n",
    "Tmax_missing.sum()"
   ]
  },
  {
   "cell_type": "code",
<<<<<<< HEAD
   "execution_count": 7,
=======
   "execution_count": 9,
>>>>>>> 930996d39ddd92b0c2083e3a25d95218f18f575a
   "metadata": {},
   "outputs": [
    {
     "data": {
      "text/plain": [
       "0"
      ]
     },
<<<<<<< HEAD
     "execution_count": 7,
=======
     "execution_count": 9,
>>>>>>> 930996d39ddd92b0c2083e3a25d95218f18f575a
     "metadata": {},
     "output_type": "execute_result"
    }
   ],
   "source": [
    "Tmin_missing = weather['Tmin'].map(lambda val: val == 'M')\n",
    "Tmin_missing.sum()"
   ]
  },
  {
   "cell_type": "code",
<<<<<<< HEAD
   "execution_count": 8,
=======
   "execution_count": 10,
>>>>>>> 930996d39ddd92b0c2083e3a25d95218f18f575a
   "metadata": {},
   "outputs": [
    {
     "data": {
      "text/plain": [
       "11"
      ]
     },
<<<<<<< HEAD
     "execution_count": 8,
=======
     "execution_count": 10,
>>>>>>> 930996d39ddd92b0c2083e3a25d95218f18f575a
     "metadata": {},
     "output_type": "execute_result"
    }
   ],
   "source": [
    "Tavg_missing = weather['Tavg'].map(lambda val: val == 'M')\n",
    "Tavg_missing.sum()"
   ]
  },
  {
   "cell_type": "markdown",
   "metadata": {},
   "source": [
    "A few missing Tavg, we'll drop those rows."
   ]
  },
  {
   "cell_type": "code",
<<<<<<< HEAD
   "execution_count": 9,
=======
   "execution_count": 11,
>>>>>>> 930996d39ddd92b0c2083e3a25d95218f18f575a
   "metadata": {},
   "outputs": [],
   "source": [
    "weather = weather[~Tavg_missing]"
   ]
  },
  {
   "cell_type": "code",
<<<<<<< HEAD
   "execution_count": 10,
=======
   "execution_count": 12,
>>>>>>> 930996d39ddd92b0c2083e3a25d95218f18f575a
   "metadata": {
    "scrolled": true
   },
   "outputs": [
    {
     "data": {
      "text/plain": [
       "1461"
      ]
     },
<<<<<<< HEAD
     "execution_count": 10,
=======
     "execution_count": 12,
>>>>>>> 930996d39ddd92b0c2083e3a25d95218f18f575a
     "metadata": {},
     "output_type": "execute_result"
    }
   ],
   "source": [
    "Depart_missing = weather['Depart'].map(lambda val: val == 'M')\n",
    "Depart_missing.sum()"
   ]
  },
  {
   "cell_type": "markdown",
   "metadata": {},
   "source": [
    "# DewPoint, WetBulb"
   ]
  },
  {
   "cell_type": "code",
<<<<<<< HEAD
   "execution_count": 11,
=======
   "execution_count": 13,
>>>>>>> 930996d39ddd92b0c2083e3a25d95218f18f575a
   "metadata": {},
   "outputs": [
    {
     "data": {
      "text/plain": [
       "0"
      ]
     },
<<<<<<< HEAD
     "execution_count": 11,
=======
     "execution_count": 13,
>>>>>>> 930996d39ddd92b0c2083e3a25d95218f18f575a
     "metadata": {},
     "output_type": "execute_result"
    }
   ],
   "source": [
    "DewPoint_missing = weather['DewPoint'].map(lambda val: val == 'M')\n",
    "DewPoint_missing.sum()"
   ]
  },
  {
   "cell_type": "code",
<<<<<<< HEAD
   "execution_count": 12,
=======
   "execution_count": 14,
>>>>>>> 930996d39ddd92b0c2083e3a25d95218f18f575a
   "metadata": {
    "scrolled": true
   },
   "outputs": [
    {
     "data": {
      "text/plain": [
       "4"
      ]
     },
<<<<<<< HEAD
     "execution_count": 12,
=======
     "execution_count": 14,
>>>>>>> 930996d39ddd92b0c2083e3a25d95218f18f575a
     "metadata": {},
     "output_type": "execute_result"
    }
   ],
   "source": [
    "WetBulb_missing = weather['WetBulb'].map(lambda val: val == 'M')\n",
    "WetBulb_missing.sum()"
   ]
  },
  {
   "cell_type": "code",
<<<<<<< HEAD
   "execution_count": 13,
=======
   "execution_count": 15,
>>>>>>> 930996d39ddd92b0c2083e3a25d95218f18f575a
   "metadata": {},
   "outputs": [],
   "source": [
    "weather = weather[~WetBulb_missing]"
   ]
  },
  {
   "cell_type": "markdown",
   "metadata": {},
   "source": [
    "# Heat, Cool"
   ]
  },
  {
   "cell_type": "code",
<<<<<<< HEAD
   "execution_count": 14,
=======
   "execution_count": 16,
>>>>>>> 930996d39ddd92b0c2083e3a25d95218f18f575a
   "metadata": {},
   "outputs": [
    {
     "data": {
      "text/plain": [
       "0"
      ]
     },
<<<<<<< HEAD
     "execution_count": 14,
=======
     "execution_count": 16,
>>>>>>> 930996d39ddd92b0c2083e3a25d95218f18f575a
     "metadata": {},
     "output_type": "execute_result"
    }
   ],
   "source": [
    "Heat_missing = weather['Heat'].map(lambda val: val == 'M')\n",
    "Heat_missing.sum()"
   ]
  },
  {
   "cell_type": "code",
<<<<<<< HEAD
   "execution_count": 15,
=======
   "execution_count": 17,
>>>>>>> 930996d39ddd92b0c2083e3a25d95218f18f575a
   "metadata": {},
   "outputs": [
    {
     "data": {
      "text/plain": [
       "0"
      ]
     },
<<<<<<< HEAD
     "execution_count": 15,
=======
     "execution_count": 17,
>>>>>>> 930996d39ddd92b0c2083e3a25d95218f18f575a
     "metadata": {},
     "output_type": "execute_result"
    }
   ],
   "source": [
    "Cool_missing = weather['Cool'].map(lambda val: val == 'M')\n",
    "Cool_missing.sum()"
   ]
  },
  {
   "cell_type": "markdown",
   "metadata": {},
   "source": [
    "# Sunrise, Sunset"
   ]
  },
  {
   "cell_type": "code",
<<<<<<< HEAD
   "execution_count": 16,
=======
   "execution_count": 18,
>>>>>>> 930996d39ddd92b0c2083e3a25d95218f18f575a
   "metadata": {},
   "outputs": [
    {
     "data": {
      "text/plain": [
       "0"
      ]
     },
<<<<<<< HEAD
     "execution_count": 16,
=======
     "execution_count": 18,
>>>>>>> 930996d39ddd92b0c2083e3a25d95218f18f575a
     "metadata": {},
     "output_type": "execute_result"
    }
   ],
   "source": [
    "Sunrise_missing = weather['Sunrise'].map(lambda val: val == 'M')\n",
    "Sunrise_missing.sum()"
   ]
  },
  {
   "cell_type": "code",
<<<<<<< HEAD
   "execution_count": 17,
=======
   "execution_count": 19,
>>>>>>> 930996d39ddd92b0c2083e3a25d95218f18f575a
   "metadata": {},
   "outputs": [
    {
     "data": {
      "text/plain": [
       "0"
      ]
     },
<<<<<<< HEAD
     "execution_count": 17,
=======
     "execution_count": 19,
>>>>>>> 930996d39ddd92b0c2083e3a25d95218f18f575a
     "metadata": {},
     "output_type": "execute_result"
    }
   ],
   "source": [
    "Sunset_missing = weather['Sunset'].map(lambda val: val == 'M')\n",
    "Sunset_missing.sum()"
   ]
  },
  {
   "cell_type": "markdown",
   "metadata": {},
   "source": [
    "# CodeSum, Depth"
   ]
  },
  {
   "cell_type": "code",
<<<<<<< HEAD
   "execution_count": 18,
=======
   "execution_count": 20,
>>>>>>> 930996d39ddd92b0c2083e3a25d95218f18f575a
   "metadata": {
    "scrolled": true
   },
   "outputs": [
    {
     "data": {
      "text/plain": [
       "0"
      ]
     },
<<<<<<< HEAD
     "execution_count": 18,
=======
     "execution_count": 20,
>>>>>>> 930996d39ddd92b0c2083e3a25d95218f18f575a
     "metadata": {},
     "output_type": "execute_result"
    }
   ],
   "source": [
    "CodeSum_missing = weather['CodeSum'].map(lambda val: val == 'M')\n",
    "CodeSum_missing.sum()"
   ]
  },
  {
   "cell_type": "code",
<<<<<<< HEAD
   "execution_count": 19,
=======
   "execution_count": 21,
>>>>>>> 930996d39ddd92b0c2083e3a25d95218f18f575a
   "metadata": {
    "scrolled": true
   },
   "outputs": [
    {
     "data": {
      "text/plain": [
       "1460"
      ]
     },
<<<<<<< HEAD
     "execution_count": 19,
=======
     "execution_count": 21,
>>>>>>> 930996d39ddd92b0c2083e3a25d95218f18f575a
     "metadata": {},
     "output_type": "execute_result"
    }
   ],
   "source": [
    "Depth_missing = weather['Depth'].map(lambda val: val == 'M')\n",
    "Depth_missing.sum()"
   ]
  },
  {
   "cell_type": "code",
<<<<<<< HEAD
   "execution_count": 20,
=======
   "execution_count": 22,
>>>>>>> 930996d39ddd92b0c2083e3a25d95218f18f575a
   "metadata": {},
   "outputs": [
    {
     "data": {
      "text/plain": [
       "0    1469\n",
       "M    1460\n",
       "Name: Depth, dtype: int64"
      ]
     },
<<<<<<< HEAD
     "execution_count": 20,
=======
     "execution_count": 22,
>>>>>>> 930996d39ddd92b0c2083e3a25d95218f18f575a
     "metadata": {},
     "output_type": "execute_result"
    }
   ],
   "source": [
    "weather['Depth'].value_counts()"
   ]
  },
  {
   "cell_type": "code",
<<<<<<< HEAD
   "execution_count": 21,
=======
   "execution_count": 23,
>>>>>>> 930996d39ddd92b0c2083e3a25d95218f18f575a
   "metadata": {},
   "outputs": [],
   "source": [
    "weather.drop('Depth', 1, inplace=True)"
   ]
  },
  {
   "cell_type": "markdown",
   "metadata": {},
   "source": [
    "# Water1, SnowFall, PrecipTotal, "
   ]
  },
  {
   "cell_type": "code",
<<<<<<< HEAD
   "execution_count": 22,
=======
   "execution_count": 24,
>>>>>>> 930996d39ddd92b0c2083e3a25d95218f18f575a
   "metadata": {},
   "outputs": [
    {
     "data": {
      "text/plain": [
       "2929"
      ]
     },
<<<<<<< HEAD
     "execution_count": 22,
=======
     "execution_count": 24,
>>>>>>> 930996d39ddd92b0c2083e3a25d95218f18f575a
     "metadata": {},
     "output_type": "execute_result"
    }
   ],
   "source": [
    "Water1_missing = weather['Water1'].map(lambda val: val == 'M')\n",
    "Water1_missing.sum()"
   ]
  },
  {
   "cell_type": "code",
<<<<<<< HEAD
   "execution_count": 23,
=======
   "execution_count": 25,
>>>>>>> 930996d39ddd92b0c2083e3a25d95218f18f575a
   "metadata": {},
   "outputs": [
    {
     "data": {
      "text/plain": [
       "M    2929\n",
       "Name: Water1, dtype: int64"
      ]
     },
<<<<<<< HEAD
     "execution_count": 23,
=======
     "execution_count": 25,
>>>>>>> 930996d39ddd92b0c2083e3a25d95218f18f575a
     "metadata": {},
     "output_type": "execute_result"
    }
   ],
   "source": [
    "weather['Water1'].value_counts()"
   ]
  },
  {
   "cell_type": "code",
<<<<<<< HEAD
   "execution_count": 24,
=======
   "execution_count": 26,
>>>>>>> 930996d39ddd92b0c2083e3a25d95218f18f575a
   "metadata": {},
   "outputs": [],
   "source": [
    "weather.drop('Water1', 1, inplace=True)"
   ]
  },
  {
   "cell_type": "code",
<<<<<<< HEAD
   "execution_count": 25,
=======
   "execution_count": 27,
>>>>>>> 930996d39ddd92b0c2083e3a25d95218f18f575a
   "metadata": {},
   "outputs": [
    {
     "data": {
      "text/plain": [
       "1460"
      ]
     },
<<<<<<< HEAD
     "execution_count": 25,
=======
     "execution_count": 27,
>>>>>>> 930996d39ddd92b0c2083e3a25d95218f18f575a
     "metadata": {},
     "output_type": "execute_result"
    }
   ],
   "source": [
    "SnowFall_missing = weather['SnowFall'].map(lambda val: val == 'M')\n",
    "SnowFall_missing.sum()"
   ]
  },
  {
   "cell_type": "code",
<<<<<<< HEAD
   "execution_count": 26,
=======
   "execution_count": 28,
>>>>>>> 930996d39ddd92b0c2083e3a25d95218f18f575a
   "metadata": {
    "scrolled": false
   },
   "outputs": [
    {
     "data": {
      "text/plain": [
       "M      1460\n",
       "0.0    1456\n",
       "  T      12\n",
       "0.1       1\n",
       "Name: SnowFall, dtype: int64"
      ]
     },
<<<<<<< HEAD
     "execution_count": 26,
=======
     "execution_count": 28,
>>>>>>> 930996d39ddd92b0c2083e3a25d95218f18f575a
     "metadata": {},
     "output_type": "execute_result"
    }
   ],
   "source": [
    "weather['SnowFall'].value_counts()"
   ]
  },
  {
   "cell_type": "code",
<<<<<<< HEAD
   "execution_count": 27,
=======
   "execution_count": 29,
>>>>>>> 930996d39ddd92b0c2083e3a25d95218f18f575a
   "metadata": {},
   "outputs": [],
   "source": [
    "weather.drop('SnowFall', 1, inplace=True)"
   ]
  },
  {
   "cell_type": "code",
<<<<<<< HEAD
   "execution_count": 28,
=======
   "execution_count": 30,
>>>>>>> 930996d39ddd92b0c2083e3a25d95218f18f575a
   "metadata": {},
   "outputs": [
    {
     "data": {
      "text/plain": [
       "2"
      ]
     },
<<<<<<< HEAD
     "execution_count": 28,
=======
     "execution_count": 30,
>>>>>>> 930996d39ddd92b0c2083e3a25d95218f18f575a
     "metadata": {},
     "output_type": "execute_result"
    }
   ],
   "source": [
    "PrecipTotal_missing = weather['PrecipTotal'].map(lambda val: val == 'M')\n",
    "PrecipTotal_missing.sum()"
   ]
  },
  {
   "cell_type": "code",
<<<<<<< HEAD
   "execution_count": 29,
=======
   "execution_count": 31,
>>>>>>> 930996d39ddd92b0c2083e3a25d95218f18f575a
   "metadata": {},
   "outputs": [],
   "source": [
    "weather = weather[~PrecipTotal_missing]"
   ]
  },
  {
   "cell_type": "markdown",
   "metadata": {},
   "source": [
    "# StnPressure SeaLevel, ResultSpeed , ResultDir, AvgSpeed\n"
   ]
  },
  {
   "cell_type": "code",
<<<<<<< HEAD
   "execution_count": 30,
=======
   "execution_count": 32,
>>>>>>> 930996d39ddd92b0c2083e3a25d95218f18f575a
   "metadata": {},
   "outputs": [
    {
     "data": {
      "text/plain": [
       "2"
      ]
     },
<<<<<<< HEAD
     "execution_count": 30,
=======
     "execution_count": 32,
>>>>>>> 930996d39ddd92b0c2083e3a25d95218f18f575a
     "metadata": {},
     "output_type": "execute_result"
    }
   ],
   "source": [
    "StnPressure_missing = weather['StnPressure'].map(lambda val: val == 'M')\n",
    "StnPressure_missing.sum()"
   ]
  },
  {
   "cell_type": "code",
<<<<<<< HEAD
   "execution_count": 31,
=======
   "execution_count": 33,
>>>>>>> 930996d39ddd92b0c2083e3a25d95218f18f575a
   "metadata": {},
   "outputs": [
    {
     "data": {
      "text/plain": [
       "8"
      ]
     },
<<<<<<< HEAD
     "execution_count": 31,
=======
     "execution_count": 33,
>>>>>>> 930996d39ddd92b0c2083e3a25d95218f18f575a
     "metadata": {},
     "output_type": "execute_result"
    }
   ],
   "source": [
    "SeaLevel_missing = weather['SeaLevel'].map(lambda val: val == 'M')\n",
    "SeaLevel_missing.sum()"
   ]
  },
  {
   "cell_type": "code",
<<<<<<< HEAD
   "execution_count": 32,
=======
   "execution_count": 34,
>>>>>>> 930996d39ddd92b0c2083e3a25d95218f18f575a
   "metadata": {},
   "outputs": [
    {
     "data": {
      "text/plain": [
       "0"
      ]
     },
<<<<<<< HEAD
     "execution_count": 32,
=======
     "execution_count": 34,
>>>>>>> 930996d39ddd92b0c2083e3a25d95218f18f575a
     "metadata": {},
     "output_type": "execute_result"
    }
   ],
   "source": [
    "ResultSpeed_missing = weather['ResultSpeed'].map(lambda val: val == 'M')\n",
    "ResultSpeed_missing.sum()"
   ]
  },
  {
   "cell_type": "code",
<<<<<<< HEAD
   "execution_count": 33,
=======
   "execution_count": 35,
>>>>>>> 930996d39ddd92b0c2083e3a25d95218f18f575a
   "metadata": {},
   "outputs": [
    {
     "data": {
      "text/plain": [
       "0"
      ]
     },
<<<<<<< HEAD
     "execution_count": 33,
=======
     "execution_count": 35,
>>>>>>> 930996d39ddd92b0c2083e3a25d95218f18f575a
     "metadata": {},
     "output_type": "execute_result"
    }
   ],
   "source": [
    "ResultDir_missing = weather['ResultDir'].map(lambda val: val == 'M')\n",
    "ResultDir_missing.sum()"
   ]
  },
  {
   "cell_type": "code",
<<<<<<< HEAD
   "execution_count": 34,
=======
   "execution_count": 36,
>>>>>>> 930996d39ddd92b0c2083e3a25d95218f18f575a
   "metadata": {},
   "outputs": [
    {
     "data": {
      "text/plain": [
       "2"
      ]
     },
<<<<<<< HEAD
     "execution_count": 34,
=======
     "execution_count": 36,
>>>>>>> 930996d39ddd92b0c2083e3a25d95218f18f575a
     "metadata": {},
     "output_type": "execute_result"
    }
   ],
   "source": [
    "AvgSpeed_missing = weather['AvgSpeed'].map(lambda val: val == 'M')\n",
    "AvgSpeed_missing.sum()"
   ]
  },
  {
   "cell_type": "code",
<<<<<<< HEAD
   "execution_count": 35,
=======
   "execution_count": 37,
>>>>>>> 930996d39ddd92b0c2083e3a25d95218f18f575a
   "metadata": {},
   "outputs": [],
   "source": [
    "weather = weather[(~StnPressure_missing) & (~SeaLevel_missing) & (~AvgSpeed_missing)]"
   ]
  },
  {
   "cell_type": "markdown",
   "metadata": {},
   "source": [
    "## Exporting to csv"
   ]
  },
  {
   "cell_type": "code",
<<<<<<< HEAD
   "execution_count": 36,
=======
   "execution_count": 38,
>>>>>>> 930996d39ddd92b0c2083e3a25d95218f18f575a
   "metadata": {},
   "outputs": [
    {
     "data": {
      "text/html": [
       "<div>\n",
       "<style scoped>\n",
       "    .dataframe tbody tr th:only-of-type {\n",
       "        vertical-align: middle;\n",
       "    }\n",
       "\n",
       "    .dataframe tbody tr th {\n",
       "        vertical-align: top;\n",
       "    }\n",
       "\n",
       "    .dataframe thead th {\n",
       "        text-align: right;\n",
       "    }\n",
       "</style>\n",
       "<table border=\"1\" class=\"dataframe\">\n",
       "  <thead>\n",
       "    <tr style=\"text-align: right;\">\n",
       "      <th></th>\n",
       "      <th>Station</th>\n",
       "      <th>Date</th>\n",
       "      <th>Tmax</th>\n",
       "      <th>Tmin</th>\n",
       "      <th>Tavg</th>\n",
       "      <th>Depart</th>\n",
       "      <th>DewPoint</th>\n",
       "      <th>WetBulb</th>\n",
       "      <th>Heat</th>\n",
       "      <th>Cool</th>\n",
       "      <th>Sunrise</th>\n",
       "      <th>Sunset</th>\n",
       "      <th>CodeSum</th>\n",
       "      <th>PrecipTotal</th>\n",
       "      <th>StnPressure</th>\n",
       "      <th>SeaLevel</th>\n",
       "      <th>ResultSpeed</th>\n",
       "      <th>ResultDir</th>\n",
       "      <th>AvgSpeed</th>\n",
       "    </tr>\n",
       "  </thead>\n",
       "  <tbody>\n",
       "    <tr>\n",
       "      <th>0</th>\n",
       "      <td>1</td>\n",
       "      <td>2007-05-01</td>\n",
       "      <td>83</td>\n",
       "      <td>50</td>\n",
       "      <td>67</td>\n",
       "      <td>14</td>\n",
       "      <td>51</td>\n",
       "      <td>56</td>\n",
       "      <td>0</td>\n",
       "      <td>2</td>\n",
       "      <td>0448</td>\n",
       "      <td>1849</td>\n",
       "      <td></td>\n",
       "      <td>0.00</td>\n",
       "      <td>29.10</td>\n",
       "      <td>29.82</td>\n",
       "      <td>1.7</td>\n",
       "      <td>27</td>\n",
       "      <td>9.2</td>\n",
       "    </tr>\n",
       "    <tr>\n",
       "      <th>1</th>\n",
       "      <td>2</td>\n",
       "      <td>2007-05-01</td>\n",
       "      <td>84</td>\n",
       "      <td>52</td>\n",
       "      <td>68</td>\n",
       "      <td>M</td>\n",
       "      <td>51</td>\n",
       "      <td>57</td>\n",
       "      <td>0</td>\n",
       "      <td>3</td>\n",
       "      <td>-</td>\n",
       "      <td>-</td>\n",
       "      <td></td>\n",
       "      <td>0.00</td>\n",
       "      <td>29.18</td>\n",
       "      <td>29.82</td>\n",
       "      <td>2.7</td>\n",
       "      <td>25</td>\n",
       "      <td>9.6</td>\n",
       "    </tr>\n",
       "    <tr>\n",
       "      <th>2</th>\n",
       "      <td>1</td>\n",
       "      <td>2007-05-02</td>\n",
       "      <td>59</td>\n",
       "      <td>42</td>\n",
       "      <td>51</td>\n",
       "      <td>-3</td>\n",
       "      <td>42</td>\n",
       "      <td>47</td>\n",
       "      <td>14</td>\n",
       "      <td>0</td>\n",
       "      <td>0447</td>\n",
       "      <td>1850</td>\n",
       "      <td>BR</td>\n",
       "      <td>0.00</td>\n",
       "      <td>29.38</td>\n",
       "      <td>30.09</td>\n",
       "      <td>13.0</td>\n",
       "      <td>4</td>\n",
       "      <td>13.4</td>\n",
       "    </tr>\n",
       "    <tr>\n",
       "      <th>3</th>\n",
       "      <td>2</td>\n",
       "      <td>2007-05-02</td>\n",
       "      <td>60</td>\n",
       "      <td>43</td>\n",
       "      <td>52</td>\n",
       "      <td>M</td>\n",
       "      <td>42</td>\n",
       "      <td>47</td>\n",
       "      <td>13</td>\n",
       "      <td>0</td>\n",
       "      <td>-</td>\n",
       "      <td>-</td>\n",
       "      <td>BR HZ</td>\n",
       "      <td>0.00</td>\n",
       "      <td>29.44</td>\n",
       "      <td>30.08</td>\n",
       "      <td>13.3</td>\n",
       "      <td>2</td>\n",
       "      <td>13.4</td>\n",
       "    </tr>\n",
       "    <tr>\n",
       "      <th>4</th>\n",
       "      <td>1</td>\n",
       "      <td>2007-05-03</td>\n",
       "      <td>66</td>\n",
       "      <td>46</td>\n",
       "      <td>56</td>\n",
       "      <td>2</td>\n",
       "      <td>40</td>\n",
       "      <td>48</td>\n",
       "      <td>9</td>\n",
       "      <td>0</td>\n",
       "      <td>0446</td>\n",
       "      <td>1851</td>\n",
       "      <td></td>\n",
       "      <td>0.00</td>\n",
       "      <td>29.39</td>\n",
       "      <td>30.12</td>\n",
       "      <td>11.7</td>\n",
       "      <td>7</td>\n",
       "      <td>11.9</td>\n",
       "    </tr>\n",
       "  </tbody>\n",
       "</table>\n",
       "</div>"
      ],
      "text/plain": [
       "   Station        Date  Tmax  Tmin Tavg Depart  DewPoint WetBulb Heat Cool  \\\n",
       "0        1  2007-05-01    83    50   67     14        51      56    0    2   \n",
       "1        2  2007-05-01    84    52   68      M        51      57    0    3   \n",
       "2        1  2007-05-02    59    42   51     -3        42      47   14    0   \n",
       "3        2  2007-05-02    60    43   52      M        42      47   13    0   \n",
       "4        1  2007-05-03    66    46   56      2        40      48    9    0   \n",
       "\n",
       "  Sunrise Sunset CodeSum PrecipTotal StnPressure SeaLevel  ResultSpeed  \\\n",
       "0    0448   1849                0.00       29.10    29.82          1.7   \n",
       "1       -      -                0.00       29.18    29.82          2.7   \n",
       "2    0447   1850      BR        0.00       29.38    30.09         13.0   \n",
       "3       -      -   BR HZ        0.00       29.44    30.08         13.3   \n",
       "4    0446   1851                0.00       29.39    30.12         11.7   \n",
       "\n",
       "   ResultDir AvgSpeed  \n",
       "0         27      9.2  \n",
       "1         25      9.6  \n",
       "2          4     13.4  \n",
       "3          2     13.4  \n",
       "4          7     11.9  "
      ]
     },
<<<<<<< HEAD
     "execution_count": 36,
=======
     "execution_count": 38,
>>>>>>> 930996d39ddd92b0c2083e3a25d95218f18f575a
     "metadata": {},
     "output_type": "execute_result"
    }
   ],
   "source": [
    "weather.head()"
   ]
  },
  {
   "cell_type": "code",
<<<<<<< HEAD
   "execution_count": 37,
=======
   "execution_count": 39,
>>>>>>> 930996d39ddd92b0c2083e3a25d95218f18f575a
   "metadata": {},
   "outputs": [
    {
     "data": {
      "text/plain": [
       "0"
      ]
     },
<<<<<<< HEAD
     "execution_count": 37,
=======
     "execution_count": 39,
>>>>>>> 930996d39ddd92b0c2083e3a25d95218f18f575a
     "metadata": {},
     "output_type": "execute_result"
    }
   ],
   "source": [
    "weather.isnull().sum().sum()"
   ]
  },
  {
   "cell_type": "code",
<<<<<<< HEAD
   "execution_count": 38,
=======
   "execution_count": null,
>>>>>>> 930996d39ddd92b0c2083e3a25d95218f18f575a
   "metadata": {},
   "outputs": [],
   "source": [
    "weather.to_csv('../data/weather_cleaned.csv', index=False)"
   ]
  },
  {
   "cell_type": "markdown",
   "metadata": {},
   "source": [
    "## Recording the name of the weather station closest to a trap"
   ]
  },
  {
   "cell_type": "code",
   "execution_count": 86,
   "metadata": {},
   "outputs": [],
   "source": [
    "train = pd.read_csv('../data/train_cleaned.csv')"
   ]
  },
  {
   "cell_type": "markdown",
   "metadata": {},
   "source": [
    "- Station 1: CHICAGO O'HARE INTERNATIONAL AIRPORT Lat: 41.995 Lon: -87.933 Elev: 662 ft. above sea level  \n",
    "\n",
    "- Station 2: CHICAGO MIDWAY INTL ARPT Lat: 41.786 Lon: -87.752 Elev: 612 ft. above sea level  "
   ]
  },
  {
   "cell_type": "code",
   "execution_count": 90,
   "metadata": {},
   "outputs": [],
   "source": [
    "from math import radians, sin, cos, atan2, sqrt\n",
    "def distance(lat1, lon1, lat2, lon2, degrees=True, R = 3959.0):\n",
    "    \n",
    "    #assumes input is in degrees and converts to radians. If input is in radians pass degrees=False\n",
    "    #distances are measured in miles\n",
    "    \n",
    "    if degrees:\n",
    "        lat1 = radians(lat1)\n",
    "        lon1 = radians(lon1)\n",
    "        lat2 = radians(lat2)\n",
    "        lon2 = radians(lon2)\n",
    "\n",
    "    dlon = lon2 - lon1\n",
    "    dlat = lat2 - lat1\n",
    "\n",
    "\n",
    "    a = (sin(dlat/2))**2 + cos(lat1) * cos(lat2) * (sin(dlon/2))**2\n",
    "    c = 2 * atan2(sqrt(a), sqrt(1-a))\n",
    "    \n",
    "    return R * c\n",
    "\n",
    "#one=hots \n",
    "def closest_station(row):\n",
    "    lat = row['latitude']\n",
    "    lon = row['longitude']\n",
    "    \n",
    "    d1 = distance(41.995, -87.933, lat, lon)\n",
    "    d2 = distance(41.786, -87.752, lat, lon)\n",
    "    \n",
    "    if d1 > d2:\n",
    "        return 1\n",
    "    else:\n",
    "        return 0"
   ]
  },
  {
   "cell_type": "code",
   "execution_count": 92,
   "metadata": {},
   "outputs": [],
   "source": [
    "train['closest_station'] = train.apply(closest_station, axis=1)"
   ]
  },
  {
   "cell_type": "code",
   "execution_count": null,
   "metadata": {},
   "outputs": [],
   "source": [
    "train.to_csv('../data/train_cleaned_station.csv')"
   ]
  }
 ],
 "metadata": {
  "kernelspec": {
   "display_name": "Python 3",
   "language": "python",
   "name": "python3"
  },
  "language_info": {
   "codemirror_mode": {
    "name": "ipython",
    "version": 3
   },
   "file_extension": ".py",
   "mimetype": "text/x-python",
   "name": "python",
   "nbconvert_exporter": "python",
   "pygments_lexer": "ipython3",
   "version": "3.6.5"
  }
 },
 "nbformat": 4,
 "nbformat_minor": 2
}
